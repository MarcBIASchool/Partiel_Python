{
 "cells": [
  {
   "cell_type": "markdown",
   "id": "ba39bf19-7fe4-41c5-8c18-dd63f67ff409",
   "metadata": {
    "tags": []
   },
   "source": [
    "# Partiel Programmation Python - BAËGERT Marc"
   ]
  },
  {
   "cell_type": "markdown",
   "id": "e11eb816-88ac-4e46-8654-a07d6bfd46d6",
   "metadata": {},
   "source": [
    "### Import librairies"
   ]
  },
  {
   "cell_type": "code",
   "execution_count": 1,
   "id": "387f3f30-be22-41bb-ac3f-4d2a5d2f6981",
   "metadata": {},
   "outputs": [],
   "source": [
    "import math"
   ]
  },
  {
   "cell_type": "markdown",
   "id": "e4095b51-243a-44dc-8234-cdfa81918583",
   "metadata": {},
   "source": [
    "## Création de fonction mathématique simple en Python (12 points) : "
   ]
  },
  {
   "cell_type": "markdown",
   "id": "3492847f-5fa9-4fd6-941b-9a6ccdf91ae2",
   "metadata": {
    "tags": []
   },
   "source": [
    "### a)"
   ]
  },
  {
   "cell_type": "code",
   "execution_count": 2,
   "id": "5b93bfce-f0d9-483f-beb7-75b871ade069",
   "metadata": {},
   "outputs": [],
   "source": [
    "def func_poly(nombre_reel = 0):\n",
    "    \"\"\"\n",
    "    Cette fonction retoune le résultat de la fonction polynomiale:\n",
    "    f(x)=x^3-1,5x²-6x+5\n",
    "    \"\"\"\n",
    "    resultat = nombre_reel**3-1.5*nombre_reel**2-6*nombre_reel+5\n",
    "    return(resultat)"
   ]
  },
  {
   "cell_type": "code",
   "execution_count": 3,
   "id": "013b2d20-6841-4981-9cbc-ed06bb01cd5d",
   "metadata": {},
   "outputs": [
    {
     "name": "stdout",
     "output_type": "stream",
     "text": [
      "62.5\n"
     ]
    }
   ],
   "source": [
    "######### TEST #########\n",
    "test_001 = func_poly(5)\n",
    "print(test_001)\n",
    "######### TEST #########\n",
    "# Doit afficher 62,5"
   ]
  },
  {
   "cell_type": "markdown",
   "id": "3b78087d-1db4-4b5d-8a1a-31bbcca68643",
   "metadata": {
    "tags": []
   },
   "source": [
    "### b)"
   ]
  },
  {
   "cell_type": "code",
   "execution_count": 4,
   "id": "052a419f-af6c-4226-a902-1a9c583a79f0",
   "metadata": {},
   "outputs": [],
   "source": [
    "def factorielle(nombre_reel=0):\n",
    "    \"\"\"\n",
    "    Cette fonction définit le calcul d'une factorielle en mode récursif\n",
    "    \"\"\"\n",
    "    if nombre_reel == 0:\n",
    "        return(1)\n",
    "    else:\n",
    "        return(nombre_reel*factorielle(nombre_reel-1))"
   ]
  },
  {
   "cell_type": "code",
   "execution_count": 5,
   "id": "544226ac-a756-4a1e-8c5c-0de83e4c3cb7",
   "metadata": {},
   "outputs": [
    {
     "name": "stdout",
     "output_type": "stream",
     "text": [
      "120\n"
     ]
    }
   ],
   "source": [
    "######### TEST #########\n",
    "test_001 = factorielle(5)\n",
    "print(test_001)\n",
    "######### TEST #########\n",
    "# Doit afficher 120"
   ]
  },
  {
   "cell_type": "markdown",
   "id": "666f6aca-8a7f-4c6e-bcdf-dcba3d3f00ab",
   "metadata": {
    "tags": []
   },
   "source": [
    "### c)"
   ]
  },
  {
   "cell_type": "code",
   "execution_count": 6,
   "id": "3f6d0dc0-72e9-4288-b579-9bb609dfc353",
   "metadata": {},
   "outputs": [],
   "source": [
    "def fibonnaci(nombre_reel=0):\n",
    "    \"\"\"\n",
    "    Cette fonction définit les nombres de la suite de fibonnaci\n",
    "    \"\"\"\n",
    "    # Génération de la suite de fibonnaci:\n",
    "       #Gestion de 1 et 0\n",
    "    if nombre_reel == 0:\n",
    "        return(0)\n",
    "    elif nombre_reel == 1:\n",
    "        return(1)\n",
    "    else:\n",
    "        #Les nombres sont plus grand que 1 et 0\n",
    "        return(fibonnaci(nombre_reel-1)+fibonnaci(nombre_reel-2))"
   ]
  },
  {
   "cell_type": "code",
   "execution_count": 7,
   "id": "35e876a2-52a8-42e3-8012-9b7023838f0d",
   "metadata": {},
   "outputs": [],
   "source": [
    "def suite_fibonnaci():\n",
    "    \"\"\"\n",
    "    Cette fonction permet d'intéragir avec l'utilisateur (prise en compte d'une entrée)\n",
    "    et retourne la suite de fibonnaci associé\n",
    "    Exemple:\n",
    "        suite_fibonnaci() ---------------------\n",
    "        | Entrez un nombre : 3\n",
    "        | La suite de fibonacci est :\n",
    "        |   >>> 0,1,1,2\n",
    "        |--------------------------------------\n",
    "    \"\"\"\n",
    "    # Gestion de l'entrée:\n",
    "    input_user = int(input(\"Entrez un nombre: \"))\n",
    "    \n",
    "    # Génération de la suite de fubonacci:\n",
    "    suite_f = []\n",
    "    for i in range(input_user+1):\n",
    "        suite_f.append(fibonnaci(i))\n",
    "    print(f\"La suite de fubonacci F{input_user} est:\")\n",
    "    print(f\"   >>> {suite_f}\")"
   ]
  },
  {
   "cell_type": "code",
   "execution_count": 8,
   "id": "83d0ca18-fc35-4d1d-a6cc-100ed36aff28",
   "metadata": {},
   "outputs": [
    {
     "name": "stdin",
     "output_type": "stream",
     "text": [
      "Entrez un nombre:  6\n"
     ]
    },
    {
     "name": "stdout",
     "output_type": "stream",
     "text": [
      "La suite de fubonacci F6 est:\n",
      "   >>> [0, 1, 1, 2, 3, 5, 8]\n"
     ]
    }
   ],
   "source": [
    "######### TEST #########\n",
    "suite_fibonnaci()\n",
    "######### TEST #########\n",
    "# En entrée on a 6\n",
    "# Doit afficher 0,1,1,2,3,5,8"
   ]
  },
  {
   "cell_type": "markdown",
   "id": "dda18a89-0f6b-48f2-ada2-c9485c5e255c",
   "metadata": {},
   "source": [
    "## 2. Création de fonction comportant des modules de gestions des exceptions (5 points) :"
   ]
  },
  {
   "cell_type": "code",
   "execution_count": 9,
   "id": "c9d45e96-f3b2-4a3f-9f1d-4c3b80457bdf",
   "metadata": {},
   "outputs": [],
   "source": [
    "# En utilisant l’une des trois fonctions mathématiques précédentes, implémenter un script\n",
    "# permettant de gérer les exceptions pours les cas suivants :\n",
    "# - Saisie d'une chaine de caractère dans les arguments de la fonction\n",
    "# - Saisie un nombre complexe\n",
    "# - Saisie d'un nombre négatif\n",
    "# - Saisie d'un très grand nombre\n",
    "# - Saisie d'un très petit nombre\n",
    "# On pourra s’aider de la correction du TP Pythagore figurant sur le Classroom."
   ]
  },
  {
   "cell_type": "code",
   "execution_count": 10,
   "id": "4386fa9e-d548-4646-8ef0-3f25248932dc",
   "metadata": {},
   "outputs": [],
   "source": [
    "def check_type(value,list_good =[int]):\n",
    "    \"\"\"\n",
    "    def check_type(value,list_good =[int]): return 1 if value type is in list good\n",
    "    \n",
    "    Inputs:\n",
    "        - list_good : list of accepted type for value\n",
    "        - value : it's an element to compare\n",
    "    Ouput:\n",
    "        - good: return 1 if value has a good type or 0 if not\n",
    "    \"\"\"\n",
    "    type_value = type(value)\n",
    "\n",
    "    # On édite une variable good indiquant si la variable d'entrée est bonne: 1->ok | 0->nok\n",
    "    good = [1 for i in list_good if i == type_value]\n",
    "    if len(good) == 0:\n",
    "        good = 0\n",
    "    else:\n",
    "        good = 1\n",
    "        \n",
    "    return good"
   ]
  },
  {
   "cell_type": "code",
   "execution_count": 11,
   "id": "ab9247bd-4ea8-45d9-8bd0-5842e1979410",
   "metadata": {},
   "outputs": [],
   "source": [
    "def give_right_type(value, list_good =[int], force_int = False):\n",
    "    \"\"\"\n",
    "    def give_right_type(value, list_good =[int]) : ask user to give a good value type\n",
    "    \n",
    "    Inputs:\n",
    "        - list_good : list of accepted type for value\n",
    "        - value : it's an element to compare\n",
    "        - force_int : Force le passage en entier quand c'est possible\n",
    "    Ouput:\n",
    "        - value_r: return a better value (with a good type)\n",
    "    \"\"\"\n",
    "    # On regarde si le type est correct ou non:\n",
    "    good_type = check_type(value,list_good)\n",
    "    value_r = value\n",
    "    index_while = 0\n",
    "    \n",
    "    while good_type<1: \n",
    "        try:\n",
    "            value_r = float(value_r)\n",
    "            if force_int == True:\n",
    "                value_r = int(math.floor(value_r))\n",
    "        except:\n",
    "            print(\"Oops!  Ce n'est pas un type correct.  Essayez encore...\")\n",
    "            value_r = input(\"Entrez un entier:\")\n",
    "            \n",
    "        good_type = check_type(value_r,list_good)    \n",
    "    return value_r"
   ]
  },
  {
   "cell_type": "code",
   "execution_count": 12,
   "id": "7c9f94d2-ea6a-4704-a7dc-e686051a2d2d",
   "metadata": {},
   "outputs": [],
   "source": [
    "def give_limit_value(value, bornes =[0,999],list_good =[int],force_int = False):\n",
    "    \"\"\"\n",
    "    give_limit_value(value, bornes =[0,999],list_good =[int]):\n",
    "    \n",
    "    Inputs:\n",
    "        - list_good : list of accepted type for value\n",
    "        - bornes : defines the min and max value of value\n",
    "        - value : it's an element to compare\n",
    "        - force_int : Force le passage en entier quand c'est possible\n",
    "    Ouput:\n",
    "        - value_r: return a better value (with a good type)\n",
    "    \"\"\"\n",
    "    # On vérifie le type de la valeur d'entrée:\n",
    "    value_r = give_right_type(value, list_good,force_int)\n",
    "    \n",
    "    # On vérifie la valeur de value_r par rapport aux bornes:\n",
    "    while (value_r<bornes[0]) | (value_r>bornes[1]):\n",
    "        print(f\"Votre valeur {value_r} n'est pas un nombre compris dans la borne : [ {bornes[0]} , {bornes[1]} ] \")\n",
    "        value_r = \"wrong\"\n",
    "        value_r = give_right_type(value_r, list_good,force_int)\n",
    "        \n",
    "    return value_r"
   ]
  },
  {
   "cell_type": "markdown",
   "id": "befa4ad2-44bd-4e2c-8abf-e85ed1aa0af7",
   "metadata": {
    "tags": []
   },
   "source": [
    "#### a)"
   ]
  },
  {
   "cell_type": "code",
   "execution_count": 13,
   "id": "70b80dd6-840c-417d-a682-2f9059e1c9c5",
   "metadata": {},
   "outputs": [],
   "source": [
    "def func_poly_corr(nombre_reel = 0):\n",
    "    \"\"\"\n",
    "    Cette fonction retoune le résultat de la fonction polynomiale:\n",
    "    f(x)=x^3-1,5x²-6x+5\n",
    "    \"\"\"\n",
    "    # Gestion de l'entrée:\n",
    "    nombre_reel_corr = give_limit_value(nombre_reel,list_good =[int,float])\n",
    "    \n",
    "    resultat = nombre_reel_corr**3-1.5*nombre_reel_corr**2-6*nombre_reel_corr+5\n",
    "    return(resultat)"
   ]
  },
  {
   "cell_type": "code",
   "execution_count": 14,
   "id": "af91eaef-2f11-408b-8b89-e3b537a20f3e",
   "metadata": {},
   "outputs": [
    {
     "name": "stdout",
     "output_type": "stream",
     "text": [
      "62.5\n"
     ]
    }
   ],
   "source": [
    "######### TEST #########\n",
    "test_001 = func_poly_corr(5)\n",
    "print(test_001)\n",
    "######### TEST #########\n",
    "# Doit afficher 62,5"
   ]
  },
  {
   "cell_type": "code",
   "execution_count": 15,
   "id": "a9e77536-95bf-47fa-94e6-6d854641671d",
   "metadata": {},
   "outputs": [
    {
     "name": "stdout",
     "output_type": "stream",
     "text": [
      "98.31994117330461\n"
     ]
    }
   ],
   "source": [
    "######### TEST #########\n",
    "test_002 = func_poly_corr(5.57665)\n",
    "print(test_002)\n",
    "######### TEST #########\n",
    "# Doit afficher 98.319"
   ]
  },
  {
   "cell_type": "code",
   "execution_count": 16,
   "id": "ef379c19-7953-4ae5-a325-b44ace197ae8",
   "metadata": {},
   "outputs": [
    {
     "name": "stdout",
     "output_type": "stream",
     "text": [
      "131.0\n"
     ]
    }
   ],
   "source": [
    "######### TEST #########\n",
    "test_003 = func_poly_corr(6)\n",
    "print(test_003)\n",
    "######### TEST #########\n",
    "# Doit afficher 131.0"
   ]
  },
  {
   "cell_type": "code",
   "execution_count": 17,
   "id": "16d2f39b-7c59-49f1-b5e8-a8b1afa6004b",
   "metadata": {},
   "outputs": [
    {
     "name": "stdout",
     "output_type": "stream",
     "text": [
      "Oops!  Ce n'est pas un type correct.  Essayez encore...\n"
     ]
    },
    {
     "name": "stdin",
     "output_type": "stream",
     "text": [
      "Entrez un entier: 4\n"
     ]
    },
    {
     "name": "stdout",
     "output_type": "stream",
     "text": [
      "21.0\n"
     ]
    }
   ],
   "source": [
    "######### TEST #########\n",
    "test_004 = func_poly_corr(5+6j)\n",
    "print(test_004)\n",
    "######### TEST #########\n",
    "# Doit afficher Oops!  Ce n'est pas un type correct.  Essayez encore...\n",
    "# Puis 21 en saissisant 4"
   ]
  },
  {
   "cell_type": "code",
   "execution_count": 18,
   "id": "a0b1d0a1-bf6a-4e6f-8e5f-6c3ec8bf62d4",
   "metadata": {},
   "outputs": [
    {
     "name": "stdout",
     "output_type": "stream",
     "text": [
      "Votre valeur -23 n'est pas un nombre compris dans la borne : [ 0 , 999 ] \n",
      "Oops!  Ce n'est pas un type correct.  Essayez encore...\n"
     ]
    },
    {
     "name": "stdin",
     "output_type": "stream",
     "text": [
      "Entrez un entier: 23\n"
     ]
    },
    {
     "name": "stdout",
     "output_type": "stream",
     "text": [
      "11240.5\n"
     ]
    }
   ],
   "source": [
    "######### TEST #########\n",
    "test_005 = func_poly_corr(-23)\n",
    "print(test_005)\n",
    "######### TEST #########\n",
    "# Doit afficher Votre valeur \"X\" n'est pas un nombre compris dans la borne : [ 0 , 999 ]\n",
    "# Puis 11240.5 en saissisant 23"
   ]
  },
  {
   "cell_type": "code",
   "execution_count": 19,
   "id": "4c3e2732-b4ff-4073-89ad-16ffae3ce888",
   "metadata": {},
   "outputs": [
    {
     "name": "stdout",
     "output_type": "stream",
     "text": [
      "Oops!  Ce n'est pas un type correct.  Essayez encore...\n"
     ]
    },
    {
     "name": "stdin",
     "output_type": "stream",
     "text": [
      "Entrez un entier: 2\n"
     ]
    },
    {
     "name": "stdout",
     "output_type": "stream",
     "text": [
      "-5.0\n"
     ]
    }
   ],
   "source": [
    "######### TEST #########\n",
    "test_006 = func_poly_corr(\"Vive les partiels\")\n",
    "print(test_006)\n",
    "######### TEST #########\n",
    "# Doit afficher Oops!  Ce n'est pas un type correct.  Essayez encore...\n",
    "# Puis -5.0 en saissisant 2"
   ]
  },
  {
   "cell_type": "markdown",
   "id": "808b3ef8-e98f-477c-8edc-1f756eeff062",
   "metadata": {
    "tags": []
   },
   "source": [
    "#### b)"
   ]
  },
  {
   "cell_type": "code",
   "execution_count": 20,
   "id": "a7bfd65b-c49d-4173-afbf-2d50735dac90",
   "metadata": {},
   "outputs": [],
   "source": [
    "def factorielle_corr(nombre_reel=0):\n",
    "    \"\"\"\n",
    "    Cette fonction définit le calcul d'une factorielle\n",
    "    \"\"\"\n",
    "    \n",
    "    # Gestion de l'entrée:\n",
    "    nombre_reel_corr = give_limit_value(nombre_reel,force_int=True)\n",
    "    \n",
    "    resultat = 1\n",
    "    for i in range(nombre_reel_corr,1,-1):\n",
    "        resultat*=i\n",
    "    return(resultat)"
   ]
  },
  {
   "cell_type": "code",
   "execution_count": 21,
   "id": "d0a73dad-a7d9-4879-a262-42b0751f79eb",
   "metadata": {},
   "outputs": [
    {
     "name": "stdout",
     "output_type": "stream",
     "text": [
      "120\n"
     ]
    }
   ],
   "source": [
    "######### TEST #########\n",
    "test_001 = factorielle_corr(5)\n",
    "print(test_001)\n",
    "######### TEST #########\n",
    "# Doit afficher 120"
   ]
  },
  {
   "cell_type": "code",
   "execution_count": 22,
   "id": "bb4925c3-0b27-4ada-ab71-27dda20aff6b",
   "metadata": {},
   "outputs": [
    {
     "name": "stdout",
     "output_type": "stream",
     "text": [
      "120\n"
     ]
    }
   ],
   "source": [
    "######### TEST #########\n",
    "test_002 = factorielle_corr(5.99965)\n",
    "print(test_002)\n",
    "######### TEST #########\n",
    "# Doit afficher 120"
   ]
  },
  {
   "cell_type": "code",
   "execution_count": 23,
   "id": "ee4e8989-f7ff-4a21-9db7-cfbc7aaffc61",
   "metadata": {},
   "outputs": [
    {
     "name": "stdout",
     "output_type": "stream",
     "text": [
      "Votre valeur -2 n'est pas un nombre compris dans la borne : [ 0 , 999 ] \n",
      "Oops!  Ce n'est pas un type correct.  Essayez encore...\n"
     ]
    },
    {
     "name": "stdin",
     "output_type": "stream",
     "text": [
      "Entrez un entier: 2\n"
     ]
    },
    {
     "name": "stdout",
     "output_type": "stream",
     "text": [
      "2\n"
     ]
    }
   ],
   "source": [
    "######### TEST #########\n",
    "test_003 = factorielle_corr(-2)\n",
    "print(test_003)\n",
    "######### TEST #########\n",
    "# Doit afficher 131.0"
   ]
  },
  {
   "cell_type": "code",
   "execution_count": 24,
   "id": "70ff6f22-5bba-44ba-9e9d-ab85e4b67271",
   "metadata": {},
   "outputs": [
    {
     "name": "stdout",
     "output_type": "stream",
     "text": [
      "Oops!  Ce n'est pas un type correct.  Essayez encore...\n"
     ]
    },
    {
     "name": "stdin",
     "output_type": "stream",
     "text": [
      "Entrez un entier: 4\n"
     ]
    },
    {
     "name": "stdout",
     "output_type": "stream",
     "text": [
      "24\n"
     ]
    }
   ],
   "source": [
    "######### TEST #########\n",
    "test_004 = factorielle_corr(5+6j)\n",
    "print(test_004)\n",
    "######### TEST #########\n",
    "# Doit afficher Oops!  Ce n'est pas un type correct.  Essayez encore...\n",
    "# Puis 21 en saissisant 4"
   ]
  },
  {
   "cell_type": "code",
   "execution_count": 25,
   "id": "8d74ffce-106e-4adf-82b4-15070fd1211c",
   "metadata": {},
   "outputs": [
    {
     "name": "stdout",
     "output_type": "stream",
     "text": [
      "Oops!  Ce n'est pas un type correct.  Essayez encore...\n"
     ]
    },
    {
     "name": "stdin",
     "output_type": "stream",
     "text": [
      "Entrez un entier: 2.4\n"
     ]
    },
    {
     "name": "stdout",
     "output_type": "stream",
     "text": [
      "2\n"
     ]
    }
   ],
   "source": [
    "######### TEST #########\n",
    "test_006 = factorielle_corr(\"Vive les partiels\")\n",
    "print(test_006)\n",
    "######### TEST #########\n",
    "# Doit afficher Oops!  Ce n'est pas un type correct.  Essayez encore...\n",
    "# Puis -5.0 en saissisant 2"
   ]
  },
  {
   "cell_type": "markdown",
   "id": "7697f440-02ea-49bf-bd2b-cd25707a1b8e",
   "metadata": {
    "tags": []
   },
   "source": [
    "#### c)"
   ]
  },
  {
   "cell_type": "code",
   "execution_count": 32,
   "id": "81854f3a-b73c-41c8-a43f-93af0d17721b",
   "metadata": {},
   "outputs": [],
   "source": [
    "def suite_fibonnaci_corr():\n",
    "    \"\"\"\n",
    "    Cette fonction permet d'intéragir avec l'utilisateur (prise en compte d'une entrée)\n",
    "    et retourne la suite de fibonnaci associé\n",
    "    Exemple:\n",
    "        suite_fibonnaci() ---------------------\n",
    "        | Entrez un nombre : 3\n",
    "        | La suite de fibonacci est :\n",
    "        |   >>> 0,1,1,2\n",
    "        |--------------------------------------\n",
    "    \"\"\"\n",
    "    # Gestion de l'entrée:\n",
    "    input_user = input(\"Entrez un nombre: \")\n",
    "    input_user_corr = give_limit_value(input_user,force_int=True)\n",
    "    \n",
    "    \n",
    "    # Génération de la suite de fubonacci:\n",
    "    suite_f = []\n",
    "    for i in range(input_user_corr+1):\n",
    "        suite_f.append(fibonnaci(i))\n",
    "    print(f\"La suite de fubonacci jusqu'au F{input_user_corr} est:\")\n",
    "    print(f\"   >>> {suite_f}\")"
   ]
  },
  {
   "cell_type": "code",
   "execution_count": 27,
   "id": "9aee72a4-b4af-4c84-949d-02b5e7c57593",
   "metadata": {},
   "outputs": [
    {
     "name": "stdin",
     "output_type": "stream",
     "text": [
      "Entrez un nombre:  6\n"
     ]
    },
    {
     "name": "stdout",
     "output_type": "stream",
     "text": [
      "La suite de fubonacci jusqu'au F6 est:\n",
      "   >>> [0, 1, 1, 2, 3, 5, 8]\n"
     ]
    }
   ],
   "source": [
    "######### TEST #########\n",
    "suite_fibonnaci_corr()\n",
    "######### TEST #########\n",
    "# En entrée on a 6\n",
    "# Doit afficher 0,1,1,2,3,5,8"
   ]
  },
  {
   "cell_type": "code",
   "execution_count": 28,
   "id": "04ea4d25-d1bf-4833-beaf-eb0885a34bdb",
   "metadata": {},
   "outputs": [
    {
     "name": "stdin",
     "output_type": "stream",
     "text": [
      "Entrez un nombre:  4.3\n"
     ]
    },
    {
     "name": "stdout",
     "output_type": "stream",
     "text": [
      "La suite de fubonacci jusqu'au F4 est:\n",
      "   >>> [0, 1, 1, 2, 3]\n"
     ]
    }
   ],
   "source": [
    "######### TEST #########\n",
    "suite_fibonnaci_corr()\n",
    "######### TEST #########\n",
    "# En entrée on a 4.3\n",
    "# Doit afficher 0, 1, 1, 2, 3"
   ]
  },
  {
   "cell_type": "code",
   "execution_count": 29,
   "id": "961eadc1-6de5-460f-8dbe-6dc594ae1a71",
   "metadata": {},
   "outputs": [
    {
     "name": "stdin",
     "output_type": "stream",
     "text": [
      "Entrez un nombre:  -2\n"
     ]
    },
    {
     "name": "stdout",
     "output_type": "stream",
     "text": [
      "Votre valeur -2 n'est pas un nombre compris dans la borne : [ 0 , 999 ] \n",
      "Oops!  Ce n'est pas un type correct.  Essayez encore...\n"
     ]
    },
    {
     "name": "stdin",
     "output_type": "stream",
     "text": [
      "Entrez un entier: 0\n"
     ]
    },
    {
     "name": "stdout",
     "output_type": "stream",
     "text": [
      "La suite de fubonacci jusqu'au F0 est:\n",
      "   >>> [0]\n"
     ]
    }
   ],
   "source": [
    "######### TEST #########\n",
    "suite_fibonnaci_corr()\n",
    "######### TEST #########\n",
    "# En entrée on a -2\n",
    "# Doit afficher Votre valeur -2 n'est pas un nombre compris dans la borne : [ 0 , 999 ]"
   ]
  },
  {
   "cell_type": "code",
   "execution_count": 30,
   "id": "a1508150-955f-4f5b-a9a9-ec7c9849d83a",
   "metadata": {},
   "outputs": [
    {
     "name": "stdin",
     "output_type": "stream",
     "text": [
      "Entrez un nombre:  9999999999\n"
     ]
    },
    {
     "name": "stdout",
     "output_type": "stream",
     "text": [
      "Votre valeur 9999999999 n'est pas un nombre compris dans la borne : [ 0 , 999 ] \n",
      "Oops!  Ce n'est pas un type correct.  Essayez encore...\n"
     ]
    },
    {
     "name": "stdin",
     "output_type": "stream",
     "text": [
      "Entrez un entier: 0.000000001\n"
     ]
    },
    {
     "name": "stdout",
     "output_type": "stream",
     "text": [
      "La suite de fubonacci jusqu'au F0 est:\n",
      "   >>> [0]\n"
     ]
    }
   ],
   "source": [
    "######### TEST #########\n",
    "suite_fibonnaci_corr()\n",
    "######### TEST #########\n",
    "# En entrée on a 9999999999\n",
    "# Doit afficher Votre valeur 9999999999 n'est pas un nombre compris dans la borne : [ 0 , 999 ]"
   ]
  },
  {
   "cell_type": "code",
   "execution_count": 33,
   "id": "90eb4861-6712-4349-8a6a-70d113ed2405",
   "metadata": {},
   "outputs": [
    {
     "name": "stdin",
     "output_type": "stream",
     "text": [
      "Entrez un nombre:  j+1\n"
     ]
    },
    {
     "name": "stdout",
     "output_type": "stream",
     "text": [
      "Oops!  Ce n'est pas un type correct.  Essayez encore...\n"
     ]
    },
    {
     "name": "stdin",
     "output_type": "stream",
     "text": [
      "Entrez un entier: 2.999\n"
     ]
    },
    {
     "name": "stdout",
     "output_type": "stream",
     "text": [
      "La suite de fubonacci jusqu'au F2 est:\n",
      "   >>> [0, 1, 1]\n"
     ]
    }
   ],
   "source": [
    "######### TEST #########\n",
    "suite_fibonnaci_corr()\n",
    "######### TEST #########\n",
    "# En entrée on a j+1\n",
    "# Doit afficher Oops!  Ce n'est pas un type correct.  Essayez encore..."
   ]
  },
  {
   "cell_type": "code",
   "execution_count": 34,
   "id": "26cc1c92-1a7c-40e4-8979-4fb3fbe82bee",
   "metadata": {},
   "outputs": [
    {
     "name": "stdin",
     "output_type": "stream",
     "text": [
      "Entrez un nombre:  Vive les partiels\n"
     ]
    },
    {
     "name": "stdout",
     "output_type": "stream",
     "text": [
      "Oops!  Ce n'est pas un type correct.  Essayez encore...\n"
     ]
    },
    {
     "name": "stdin",
     "output_type": "stream",
     "text": [
      "Entrez un entier: 2\n"
     ]
    },
    {
     "name": "stdout",
     "output_type": "stream",
     "text": [
      "La suite de fubonacci jusqu'au F2 est:\n",
      "   >>> [0, 1, 1]\n"
     ]
    }
   ],
   "source": [
    "######### TEST #########\n",
    "suite_fibonnaci_corr()\n",
    "######### TEST #########\n",
    "# En entrée on a \"Vive les partiels\"\n",
    "# Doit afficher Oops!  Ce n'est pas un type correct.  Essayez encore..."
   ]
  },
  {
   "cell_type": "code",
   "execution_count": null,
   "id": "963f7fd9-4584-4879-804e-179c8e953cf6",
   "metadata": {},
   "outputs": [],
   "source": []
  }
 ],
 "metadata": {
  "kernelspec": {
   "display_name": "Python 3 (ipykernel)",
   "language": "python",
   "name": "python3"
  },
  "language_info": {
   "codemirror_mode": {
    "name": "ipython",
    "version": 3
   },
   "file_extension": ".py",
   "mimetype": "text/x-python",
   "name": "python",
   "nbconvert_exporter": "python",
   "pygments_lexer": "ipython3",
   "version": "3.8.12"
  }
 },
 "nbformat": 4,
 "nbformat_minor": 5
}
